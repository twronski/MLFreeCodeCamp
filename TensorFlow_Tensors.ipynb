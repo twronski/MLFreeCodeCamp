{
  "nbformat": 4,
  "nbformat_minor": 0,
  "metadata": {
    "colab": {
      "provenance": [],
      "authorship_tag": "ABX9TyPK5O2P0GXNZK/bbUTDHVsk",
      "include_colab_link": true
    },
    "kernelspec": {
      "name": "python3",
      "display_name": "Python 3"
    },
    "language_info": {
      "name": "python"
    }
  },
  "cells": [
    {
      "cell_type": "markdown",
      "metadata": {
        "id": "view-in-github",
        "colab_type": "text"
      },
      "source": [
        "<a href=\"https://colab.research.google.com/github/twronski/MLFreeCodeCamp/blob/main/TensorFlow_Tensors.ipynb\" target=\"_parent\"><img src=\"https://colab.research.google.com/assets/colab-badge.svg\" alt=\"Open In Colab\"/></a>"
      ]
    },
    {
      "cell_type": "markdown",
      "source": [
        "# Creating Basic Tensors\n",
        "\n"
      ],
      "metadata": {
        "id": "_7OD6v27a1Xl"
      }
    },
    {
      "cell_type": "code",
      "execution_count": null,
      "metadata": {
        "id": "Qn5_jYjzaWV0"
      },
      "outputs": [],
      "source": [
        " import tensorflow as tf"
      ]
    },
    {
      "cell_type": "markdown",
      "source": [
        "## Zero Dimensional Tensor\n"
      ],
      "metadata": {
        "id": "K1b97R5-dQu-"
      }
    },
    {
      "cell_type": "code",
      "source": [
        "tensor_zero_d = tf.constant(44)\n",
        "print(tensor_zero_d)\n",
        "print(tensor_zero_d.shape)\n",
        "print(tensor_zero_d.ndim)"
      ],
      "metadata": {
        "colab": {
          "base_uri": "https://localhost:8080/"
        },
        "id": "I_poQrbGbGH2",
        "outputId": "86f39b0a-ea03-4c7e-c803-0af484e44956"
      },
      "execution_count": null,
      "outputs": [
        {
          "output_type": "stream",
          "name": "stdout",
          "text": [
            "tf.Tensor(44, shape=(), dtype=int32)\n",
            "()\n",
            "0\n"
          ]
        }
      ]
    },
    {
      "cell_type": "markdown",
      "source": [
        "## One Dimensional Tensor\n",
        "\n",
        "> Composed by several **zero** dimensional tensors"
      ],
      "metadata": {
        "id": "vkU0ZAfBdxEs"
      }
    },
    {
      "cell_type": "markdown",
      "source": [
        "### Example A"
      ],
      "metadata": {
        "id": "hbN4sqUJem1d"
      }
    },
    {
      "cell_type": "code",
      "source": [
        "tensor_one_d_a = tf.constant([2,7,4,99])\n",
        "print(tensor_one_d_a)\n",
        "print(tensor_one_d_a.shape)\n",
        "print(tensor_one_d_a.ndim)"
      ],
      "metadata": {
        "colab": {
          "base_uri": "https://localhost:8080/"
        },
        "id": "N5eJkwexcNGF",
        "outputId": "9424323b-93f7-49b3-b8d6-b35ad8a0c579"
      },
      "execution_count": null,
      "outputs": [
        {
          "output_type": "stream",
          "name": "stdout",
          "text": [
            "tf.Tensor([ 2  7  4 99], shape=(4,), dtype=int32)\n",
            "(4,)\n",
            "1\n"
          ]
        }
      ]
    },
    {
      "cell_type": "markdown",
      "source": [
        "### Example B (float)"
      ],
      "metadata": {
        "id": "CH0-uFhjfEQs"
      }
    },
    {
      "cell_type": "code",
      "source": [
        "tensor_one_d_b = tf.constant([2.0 ,7,4,99])\n",
        "print(tensor_one_d_b)\n",
        "print(tensor_one_d_b.shape)\n",
        "print(tensor_one_d_b.ndim)"
      ],
      "metadata": {
        "colab": {
          "base_uri": "https://localhost:8080/"
        },
        "id": "IyWHObOifHFD",
        "outputId": "57d9f9f5-74d2-486c-b282-b81a92d1ef4c"
      },
      "execution_count": null,
      "outputs": [
        {
          "output_type": "stream",
          "name": "stdout",
          "text": [
            "tf.Tensor([ 2.  7.  4. 99.], shape=(4,), dtype=float32)\n",
            "(4,)\n",
            "1\n"
          ]
        }
      ]
    },
    {
      "cell_type": "markdown",
      "source": [
        "## Two Dimensional Tensor\n",
        "\n",
        "> Composed by several **one** dimensional tensors\n",
        "\n",
        "### Example A"
      ],
      "metadata": {
        "id": "9X1FILNMgJuB"
      }
    },
    {
      "cell_type": "code",
      "source": [
        "tensor_two_d_a = tf.constant([[2,7,4,99]])\n",
        "print(tensor_two_d_a)\n",
        "print(tensor_two_d_a.shape)\n",
        "print(tensor_two_d_a.ndim)"
      ],
      "metadata": {
        "colab": {
          "base_uri": "https://localhost:8080/"
        },
        "id": "TIQNSTKfgUJ4",
        "outputId": "2666e92b-f61a-4366-af26-f7c37a5ef94b"
      },
      "execution_count": null,
      "outputs": [
        {
          "output_type": "stream",
          "name": "stdout",
          "text": [
            "tf.Tensor([[ 2  7  4 99]], shape=(1, 4), dtype=int32)\n",
            "(1, 4)\n",
            "2\n"
          ]
        }
      ]
    },
    {
      "cell_type": "markdown",
      "source": [
        "### Example B"
      ],
      "metadata": {
        "id": "7HRzFTvVg24a"
      }
    },
    {
      "cell_type": "code",
      "source": [
        "tensor_two_d_b = tf.constant([[2,7,4,99],\n",
        "                              [34,12,-34,23]])\n",
        "print(tensor_two_d_b)\n",
        "print(tensor_two_d_b.shape)\n",
        "print(tensor_two_d_b.ndim)\n"
      ],
      "metadata": {
        "colab": {
          "base_uri": "https://localhost:8080/"
        },
        "id": "Hlc-8wreg6Gi",
        "outputId": "01bb46a7-434f-483a-c7cb-8079489cc1c2"
      },
      "execution_count": null,
      "outputs": [
        {
          "output_type": "stream",
          "name": "stdout",
          "text": [
            "tf.Tensor(\n",
            "[[  2   7   4  99]\n",
            " [ 34  12 -34  23]], shape=(2, 4), dtype=int32)\n",
            "(2, 4)\n",
            "2\n"
          ]
        }
      ]
    },
    {
      "cell_type": "markdown",
      "source": [
        "## Three Dimensional Tensor\n",
        "\n",
        "> Composed by several **two** dimensional tensors\n",
        "\n",
        "### Example A\n",
        "\n",
        "> If I change one number to float, the whole tensor becomes float"
      ],
      "metadata": {
        "id": "p2iqgR4ghdsQ"
      }
    },
    {
      "cell_type": "code",
      "source": [
        "tensor_three_d_a = tf.constant([[[2,7,4,99.6],\n",
        "                              [34,12,-34,23]],\n",
        "                                [[2,7,4,-99],\n",
        "                              [44,12,-34,25673]]\n",
        "                                ])\n",
        "print(tensor_three_d_a)\n",
        "print(tensor_three_d_a.shape)\n",
        "print(tensor_three_d_a.ndim)\n"
      ],
      "metadata": {
        "colab": {
          "base_uri": "https://localhost:8080/"
        },
        "outputId": "9c963a9d-35a9-43f9-9848-4ba00a159164",
        "id": "e6_NOHN-hiFV"
      },
      "execution_count": null,
      "outputs": [
        {
          "output_type": "stream",
          "name": "stdout",
          "text": [
            "tf.Tensor(\n",
            "[[[ 2.0000e+00  7.0000e+00  4.0000e+00  9.9600e+01]\n",
            "  [ 3.4000e+01  1.2000e+01 -3.4000e+01  2.3000e+01]]\n",
            "\n",
            " [[ 2.0000e+00  7.0000e+00  4.0000e+00 -9.9000e+01]\n",
            "  [ 4.4000e+01  1.2000e+01 -3.4000e+01  2.5673e+04]]], shape=(2, 2, 4), dtype=float32)\n",
            "(2, 2, 4)\n",
            "3\n"
          ]
        }
      ]
    },
    {
      "cell_type": "markdown",
      "source": [
        "## Four Dimensional Tensor\n",
        "\n",
        "> Composed by several **three** dimensional tensors\n",
        "\n",
        "### Example A"
      ],
      "metadata": {
        "id": "fdaRx-RaveYT"
      }
    },
    {
      "cell_type": "code",
      "source": [
        "tensor_four_d_a = tf.constant(\n",
        "    [\n",
        "     [\n",
        "      [[1,2,3],\n",
        "       [12, -4, 390]],\n",
        "      [[1,2,3],\n",
        "       [12, -4, 390]]\n",
        "     ],\n",
        "\n",
        "     [\n",
        "      [[1,2,3],\n",
        "       [12, -4, 390]],\n",
        "      [[1,2,3],\n",
        "       [12, -4, 390]]\n",
        "     ]\n",
        "\n",
        "    ]\n",
        "    )\n",
        "\n",
        "print(tensor_four_d_a)\n",
        "print(tensor_four_d_a.shape)\n",
        "print(tensor_four_d_a.ndim)\n"
      ],
      "metadata": {
        "colab": {
          "base_uri": "https://localhost:8080/"
        },
        "id": "fAOrmPRgvrEH",
        "outputId": "d4e1e56b-5ebd-473e-c4c0-08303889a2d9"
      },
      "execution_count": null,
      "outputs": [
        {
          "output_type": "stream",
          "name": "stdout",
          "text": [
            "tf.Tensor(\n",
            "[[[[  1   2   3]\n",
            "   [ 12  -4 390]]\n",
            "\n",
            "  [[  1   2   3]\n",
            "   [ 12  -4 390]]]\n",
            "\n",
            "\n",
            " [[[  1   2   3]\n",
            "   [ 12  -4 390]]\n",
            "\n",
            "  [[  1   2   3]\n",
            "   [ 12  -4 390]]]], shape=(2, 2, 2, 3), dtype=int32)\n",
            "(2, 2, 2, 3)\n",
            "4\n"
          ]
        }
      ]
    },
    {
      "cell_type": "markdown",
      "source": [
        "## TF Convert nunpy arrays"
      ],
      "metadata": {
        "id": "FX9hBeB632KY"
      }
    },
    {
      "cell_type": "code",
      "source": [
        "import numpy as np"
      ],
      "metadata": {
        "id": "ld5SMe8835Zp"
      },
      "execution_count": null,
      "outputs": []
    },
    {
      "cell_type": "code",
      "source": [
        "np_array = np.array([[1,2,7],\n",
        "                    [12,3,40]])\n",
        "print(np_array)\n",
        "\n",
        "tf_converted_array = tf.convert_to_tensor(np_array)\n",
        "print(tf_converted_array)"
      ],
      "metadata": {
        "colab": {
          "base_uri": "https://localhost:8080/"
        },
        "id": "8UwuHoiD3_xc",
        "outputId": "126d6d1f-0ffc-4357-93ff-3b5e1a0b64d3"
      },
      "execution_count": null,
      "outputs": [
        {
          "output_type": "stream",
          "name": "stdout",
          "text": [
            "[[ 1  2  7]\n",
            " [12  3 40]]\n",
            "tf.Tensor(\n",
            "[[ 1  2  7]\n",
            " [12  3 40]], shape=(2, 3), dtype=int64)\n"
          ]
        }
      ]
    },
    {
      "cell_type": "markdown",
      "source": [
        "## TF Eye Method"
      ],
      "metadata": {
        "id": "bKzZ0fpl3nMY"
      }
    },
    {
      "cell_type": "markdown",
      "source": [
        "### Example A\n"
      ],
      "metadata": {
        "id": "_PAd-iuK6ipt"
      }
    },
    {
      "cell_type": "code",
      "source": [
        "identity_matrix_a = tf.eye(3, dtype=tf.bool)\n",
        "print(identity_matrix_a)"
      ],
      "metadata": {
        "colab": {
          "base_uri": "https://localhost:8080/"
        },
        "id": "XfYmZE7s3xfv",
        "outputId": "772198fd-a85a-4e13-98fd-4a1c144f883d"
      },
      "execution_count": null,
      "outputs": [
        {
          "output_type": "stream",
          "name": "stdout",
          "text": [
            "tf.Tensor(\n",
            "[[ True False False]\n",
            " [False  True False]\n",
            " [False False  True]], shape=(3, 3), dtype=bool)\n"
          ]
        }
      ]
    },
    {
      "cell_type": "markdown",
      "source": [
        "## TF Fill Method\n",
        "\n",
        "### Example A - Two Dimensions"
      ],
      "metadata": {
        "id": "xIqckTHF41zp"
      }
    },
    {
      "cell_type": "code",
      "source": [
        "fill_tensor_a = tf.fill([2,7], 10)\n",
        "print(fill_tensor_a)"
      ],
      "metadata": {
        "id": "8iKI5p8G63i-"
      },
      "execution_count": null,
      "outputs": []
    },
    {
      "cell_type": "markdown",
      "source": [
        "## TF Fill Method\n",
        "\n",
        "### Example B - Four Dimensions and Using tf.size Method"
      ],
      "metadata": {
        "id": "gq0tDqrV7I_K"
      }
    },
    {
      "cell_type": "code",
      "source": [
        "fill_tensor_b = tf.fill([2,7,9,4], 10)\n",
        "print(fill_tensor_b)\n",
        "tf.size(fill_tensor_b)"
      ],
      "metadata": {
        "colab": {
          "base_uri": "https://localhost:8080/"
        },
        "id": "G-D8Jro47TC1",
        "outputId": "362e076d-d221-4e06-cb99-9102ceb51502"
      },
      "execution_count": null,
      "outputs": [
        {
          "output_type": "stream",
          "name": "stdout",
          "text": [
            "tf.Tensor(\n",
            "[[[[10 10 10 10]\n",
            "   [10 10 10 10]\n",
            "   [10 10 10 10]\n",
            "   [10 10 10 10]\n",
            "   [10 10 10 10]\n",
            "   [10 10 10 10]\n",
            "   [10 10 10 10]\n",
            "   [10 10 10 10]\n",
            "   [10 10 10 10]]\n",
            "\n",
            "  [[10 10 10 10]\n",
            "   [10 10 10 10]\n",
            "   [10 10 10 10]\n",
            "   [10 10 10 10]\n",
            "   [10 10 10 10]\n",
            "   [10 10 10 10]\n",
            "   [10 10 10 10]\n",
            "   [10 10 10 10]\n",
            "   [10 10 10 10]]\n",
            "\n",
            "  [[10 10 10 10]\n",
            "   [10 10 10 10]\n",
            "   [10 10 10 10]\n",
            "   [10 10 10 10]\n",
            "   [10 10 10 10]\n",
            "   [10 10 10 10]\n",
            "   [10 10 10 10]\n",
            "   [10 10 10 10]\n",
            "   [10 10 10 10]]\n",
            "\n",
            "  [[10 10 10 10]\n",
            "   [10 10 10 10]\n",
            "   [10 10 10 10]\n",
            "   [10 10 10 10]\n",
            "   [10 10 10 10]\n",
            "   [10 10 10 10]\n",
            "   [10 10 10 10]\n",
            "   [10 10 10 10]\n",
            "   [10 10 10 10]]\n",
            "\n",
            "  [[10 10 10 10]\n",
            "   [10 10 10 10]\n",
            "   [10 10 10 10]\n",
            "   [10 10 10 10]\n",
            "   [10 10 10 10]\n",
            "   [10 10 10 10]\n",
            "   [10 10 10 10]\n",
            "   [10 10 10 10]\n",
            "   [10 10 10 10]]\n",
            "\n",
            "  [[10 10 10 10]\n",
            "   [10 10 10 10]\n",
            "   [10 10 10 10]\n",
            "   [10 10 10 10]\n",
            "   [10 10 10 10]\n",
            "   [10 10 10 10]\n",
            "   [10 10 10 10]\n",
            "   [10 10 10 10]\n",
            "   [10 10 10 10]]\n",
            "\n",
            "  [[10 10 10 10]\n",
            "   [10 10 10 10]\n",
            "   [10 10 10 10]\n",
            "   [10 10 10 10]\n",
            "   [10 10 10 10]\n",
            "   [10 10 10 10]\n",
            "   [10 10 10 10]\n",
            "   [10 10 10 10]\n",
            "   [10 10 10 10]]]\n",
            "\n",
            "\n",
            " [[[10 10 10 10]\n",
            "   [10 10 10 10]\n",
            "   [10 10 10 10]\n",
            "   [10 10 10 10]\n",
            "   [10 10 10 10]\n",
            "   [10 10 10 10]\n",
            "   [10 10 10 10]\n",
            "   [10 10 10 10]\n",
            "   [10 10 10 10]]\n",
            "\n",
            "  [[10 10 10 10]\n",
            "   [10 10 10 10]\n",
            "   [10 10 10 10]\n",
            "   [10 10 10 10]\n",
            "   [10 10 10 10]\n",
            "   [10 10 10 10]\n",
            "   [10 10 10 10]\n",
            "   [10 10 10 10]\n",
            "   [10 10 10 10]]\n",
            "\n",
            "  [[10 10 10 10]\n",
            "   [10 10 10 10]\n",
            "   [10 10 10 10]\n",
            "   [10 10 10 10]\n",
            "   [10 10 10 10]\n",
            "   [10 10 10 10]\n",
            "   [10 10 10 10]\n",
            "   [10 10 10 10]\n",
            "   [10 10 10 10]]\n",
            "\n",
            "  [[10 10 10 10]\n",
            "   [10 10 10 10]\n",
            "   [10 10 10 10]\n",
            "   [10 10 10 10]\n",
            "   [10 10 10 10]\n",
            "   [10 10 10 10]\n",
            "   [10 10 10 10]\n",
            "   [10 10 10 10]\n",
            "   [10 10 10 10]]\n",
            "\n",
            "  [[10 10 10 10]\n",
            "   [10 10 10 10]\n",
            "   [10 10 10 10]\n",
            "   [10 10 10 10]\n",
            "   [10 10 10 10]\n",
            "   [10 10 10 10]\n",
            "   [10 10 10 10]\n",
            "   [10 10 10 10]\n",
            "   [10 10 10 10]]\n",
            "\n",
            "  [[10 10 10 10]\n",
            "   [10 10 10 10]\n",
            "   [10 10 10 10]\n",
            "   [10 10 10 10]\n",
            "   [10 10 10 10]\n",
            "   [10 10 10 10]\n",
            "   [10 10 10 10]\n",
            "   [10 10 10 10]\n",
            "   [10 10 10 10]]\n",
            "\n",
            "  [[10 10 10 10]\n",
            "   [10 10 10 10]\n",
            "   [10 10 10 10]\n",
            "   [10 10 10 10]\n",
            "   [10 10 10 10]\n",
            "   [10 10 10 10]\n",
            "   [10 10 10 10]\n",
            "   [10 10 10 10]\n",
            "   [10 10 10 10]]]], shape=(2, 7, 9, 4), dtype=int32)\n"
          ]
        },
        {
          "output_type": "execute_result",
          "data": {
            "text/plain": [
              "<tf.Tensor: shape=(), dtype=int32, numpy=504>"
            ]
          },
          "metadata": {},
          "execution_count": 26
        }
      ]
    },
    {
      "cell_type": "markdown",
      "source": [
        "## tf.ones()\n",
        "\n",
        "## tf.like_ones()\n",
        "\n",
        "## tf.rank()\n",
        "\n",
        "## tf.size()"
      ],
      "metadata": {
        "id": "rJ-3hDGNBErE"
      }
    }
  ]
}